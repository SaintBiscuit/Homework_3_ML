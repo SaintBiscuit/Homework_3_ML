{
 "cells": [
  {
   "cell_type": "code",
   "execution_count": 1,
   "metadata": {},
   "outputs": [
    {
     "name": "stdout",
     "output_type": "stream",
     "text": [
      "Note: you may need to restart the kernel to use updated packages.\n"
     ]
    },
    {
     "name": "stderr",
     "output_type": "stream",
     "text": [
      "\n",
      "[notice] A new release of pip is available: 23.2.1 -> 24.3.1\n",
      "[notice] To update, run: python.exe -m pip install --upgrade pip\n"
     ]
    }
   ],
   "source": [
    "%pip install -q -U kaggle_environments"
   ]
  },
  {
   "cell_type": "code",
   "execution_count": 2,
   "metadata": {},
   "outputs": [
    {
     "name": "stderr",
     "output_type": "stream",
     "text": [
      "g:\\PythonProject\\RockPaperScissors\\venv\\Lib\\site-packages\\tqdm\\auto.py:21: TqdmWarning: IProgress not found. Please update jupyter and ipywidgets. See https://ipywidgets.readthedocs.io/en/stable/user_install.html\n",
      "  from .autonotebook import tqdm as notebook_tqdm\n"
     ]
    },
    {
     "name": "stdout",
     "output_type": "stream",
     "text": [
      "termcolor not installed, skipping dependency\n",
      "No pygame installed, ignoring import\n",
      "Loading environment lux_ai_s3 failed: No module named 'chex'\n"
     ]
    }
   ],
   "source": [
    "import numpy as np\n",
    "import pandas as pd\n",
    "import random\n",
    "import matplotlib.pyplot as plt\n",
    "from kaggle_environments import make, evaluate"
   ]
  },
  {
   "cell_type": "code",
   "execution_count": 6,
   "metadata": {},
   "outputs": [
    {
     "name": "stdout",
     "output_type": "stream",
     "text": [
      "Overwriting rock_agent.py\n"
     ]
    }
   ],
   "source": [
    "%%writefile rock_agent.py\n",
    "\n",
    "#Агент, который всегда выбирает камень\n",
    "def your_agent(observation, configuration):\n",
    "    return 0"
   ]
  },
  {
   "cell_type": "code",
   "execution_count": 7,
   "metadata": {},
   "outputs": [
    {
     "name": "stdout",
     "output_type": "stream",
     "text": [
      "Overwriting paper_agent.py\n"
     ]
    }
   ],
   "source": [
    "%%writefile paper_agent.py\n",
    "\n",
    "#Агент, который всегда выбирает бумагу\n",
    "def your_agent(observation, configuration):\n",
    "    return 1"
   ]
  },
  {
   "cell_type": "code",
   "execution_count": 8,
   "metadata": {},
   "outputs": [
    {
     "name": "stdout",
     "output_type": "stream",
     "text": [
      "Overwriting scissors_agent.py\n"
     ]
    }
   ],
   "source": [
    "%%writefile scissors_agent.py\n",
    "\n",
    "#Агент, который всегда выбирает ножницы\n",
    "def your_agent(observation, configuration):\n",
    "    return 2"
   ]
  },
  {
   "cell_type": "code",
   "execution_count": 9,
   "metadata": {},
   "outputs": [
    {
     "name": "stdout",
     "output_type": "stream",
     "text": [
      "Overwriting copy_opponent.py\n"
     ]
    }
   ],
   "source": [
    "%%writefile copy_opponent.py\n",
    "\n",
    "import random\n",
    "\n",
    "#Агент, который на первом ходу выбирает случайно камень, ножницы или бумагу, а дальше повторяет последнее действие опонента\n",
    "def copy_opponent(observation, configuration):\n",
    "    if observation.step > 0:\n",
    "        return observation.lastOpponentAction\n",
    "    else:\n",
    "        return random.randrange(0, configuration.signs)"
   ]
  },
  {
   "cell_type": "code",
   "execution_count": 10,
   "metadata": {},
   "outputs": [
    {
     "name": "stdout",
     "output_type": "stream",
     "text": [
      "Overwriting random_agent.py\n"
     ]
    }
   ],
   "source": [
    "%%writefile random_agent.py\n",
    "\n",
    "\n",
    "import random\n",
    "\n",
    "# Агент, который всегда выбирает случайное действие (камень, ножницы или бумагу)\n",
    "def random_agent(observation, configuration):\n",
    "    return random.randrange(0, configuration.signs)"
   ]
  },
  {
   "cell_type": "code",
   "execution_count": 11,
   "metadata": {},
   "outputs": [
    {
     "name": "stdout",
     "output_type": "stream",
     "text": [
      "Overwriting crescendo_agent.py\n"
     ]
    }
   ],
   "source": [
    "%%writefile crescendo_agent.py\n",
    "\n",
    "strategy = [1, 2, 0]\n",
    "# Агент, который последовательно выбирает бумагу, ножницы или камень\n",
    "def paper_doll_agent(observation, configuration):\n",
    "    global strategy\n",
    "    if strategy:\n",
    "        return strategy.pop(0)\n",
    "    else:\n",
    "        strategy = [1, 2, 0]\n",
    "        return strategy.pop(0)"
   ]
  },
  {
   "cell_type": "code",
   "execution_count": 12,
   "metadata": {},
   "outputs": [
    {
     "name": "stdout",
     "output_type": "stream",
     "text": [
      "Overwriting smart_agent.py\n"
     ]
    }
   ],
   "source": [
    "%%writefile smart_agent.py\n",
    "\n",
    "# Агент, который подстраивается под опонента. Первый ход агент всегда делает ножницами\n",
    "# Если опонент выкинул в прошлый раз камень, значит агент выберет бумагу и т.д.\n",
    "def smart_agent(observation, configuration):\n",
    "    if observation.step > 0:\n",
    "        return 2\n",
    "    else:\n",
    "        if observation.lastOpponentAction == 0:\n",
    "            return 1\n",
    "        elif observation.lastOpponentAction == 1:\n",
    "            return 2\n",
    "        else:\n",
    "            return 0"
   ]
  },
  {
   "cell_type": "code",
   "execution_count": 13,
   "metadata": {},
   "outputs": [
    {
     "name": "stdout",
     "output_type": "stream",
     "text": [
      "Overwriting three_random_two_deliberately.py\n"
     ]
    }
   ],
   "source": [
    "%%writefile three_random_two_deliberately.py\n",
    "\n",
    "import random\n",
    "\n",
    "\n",
    "count_random = 0\n",
    "count_deliberately = 0\n",
    "# Агент, который 3 раза выбирает случайный вариант, а потом 2 раза выбирает \n",
    "# выиграшный вариант относительно прошлого хода опонента\n",
    "def three_random_two_deliberately(observation, configuration):\n",
    "    global count_random, count_deliberately\n",
    "\n",
    "    if count_random < 3:\n",
    "        count_random += 1\n",
    "        return random.randrange(0, configuration.signs)\n",
    "    else:\n",
    "        count_deliberately += 1\n",
    "        \n",
    "        if count_deliberately < 2:\n",
    "            count_random = 0\n",
    "            count_deliberately = 0\n",
    "\n",
    "        if observation.lastOpponentAction == 0:\n",
    "            return 1\n",
    "        elif observation.lastOpponentAction == 1:\n",
    "            return 2\n",
    "        else:\n",
    "            return 0"
   ]
  },
  {
   "cell_type": "code",
   "execution_count": 14,
   "metadata": {},
   "outputs": [
    {
     "name": "stdout",
     "output_type": "stream",
     "text": [
      "Overwriting losing_move_agent.py\n"
     ]
    }
   ],
   "source": [
    "%%writefile losing_move_agent.py\n",
    "\n",
    "# Агент, который также подстраивается под опонента, но он выбирает проигрышный вариант, относительно прошлого хода опонента\n",
    "# Первый ход агент всегда делает бумагой. \n",
    "# Если опонент выкинул в прошлый раз камень, значит агент выберет ножницы и т.д. Такая стратегия поможет, если опонент никогда не повторяет\n",
    "# свой прошлый ход, в таком случае у нас всегда будет или ничья или победа\n",
    "def losing_move_agent(observation, configuration):\n",
    "    if observation.step > 0:\n",
    "        return 1\n",
    "    else:\n",
    "        if observation.lastOpponentAction == 0:\n",
    "            return 2\n",
    "        elif observation.lastOpponentAction == 1:\n",
    "            return 0\n",
    "        else:\n",
    "            return 1"
   ]
  },
  {
   "cell_type": "code",
   "execution_count": 15,
   "metadata": {},
   "outputs": [
    {
     "name": "stdout",
     "output_type": "stream",
     "text": [
      "Overwriting stack_of_money_agent.py\n"
     ]
    }
   ],
   "source": [
    "%%writefile stack_of_money_agent.py\n",
    "\n",
    "\n",
    "strategy = [0, 1, 1]\n",
    "# Агент, который действует по стратегии: камень, бумага, бумага\n",
    "def stack_of_money_agent(observation, configuration):\n",
    "    global strategy\n",
    "    if strategy:\n",
    "        return strategy.pop(0)\n",
    "    else:\n",
    "        strategy = [0, 1, 1]\n",
    "        return strategy.pop(0)"
   ]
  },
  {
   "cell_type": "code",
   "execution_count": 16,
   "metadata": {},
   "outputs": [
    {
     "name": "stdout",
     "output_type": "stream",
     "text": [
      "Overwriting paper_doll_agent.py\n"
     ]
    }
   ],
   "source": [
    "%%writefile paper_doll_agent.py\n",
    "\n",
    "\n",
    "strategy = [2, 1, 1]\n",
    "# Агент, который действует по стратегии: ножницы, бумага, бумага\n",
    "def paper_doll_agent(observation, configuration):\n",
    "    global strategy\n",
    "    if strategy:\n",
    "        return strategy.pop(0)\n",
    "    else:\n",
    "        strategy = [2, 1, 1]\n",
    "        return strategy.pop(0)"
   ]
  },
  {
   "cell_type": "code",
   "execution_count": 17,
   "metadata": {},
   "outputs": [
    {
     "name": "stdout",
     "output_type": "stream",
     "text": [
      "Overwriting sandwitch_agent.py\n"
     ]
    }
   ],
   "source": [
    "%%writefile sandwitch_agent.py\n",
    "\n",
    "\n",
    "strategy = [1, 2, 1]\n",
    "# Агент, который действует по стратегии: бумага, ножницы, бумага\n",
    "def sandwitch_agent(observation, configuration):\n",
    "    global strategy\n",
    "    if strategy:\n",
    "        return strategy.pop(0)\n",
    "    else:\n",
    "        strategy = [1, 2, 1]\n",
    "        return strategy.pop(0)"
   ]
  },
  {
   "cell_type": "code",
   "execution_count": 18,
   "metadata": {},
   "outputs": [
    {
     "name": "stdout",
     "output_type": "stream",
     "text": [
      "Overwriting random_deliberately.py\n"
     ]
    }
   ],
   "source": [
    "%%writefile random_deliberately.py\n",
    "\n",
    "import random\n",
    "\n",
    "\n",
    "# Агент, который 1 раз выбирает случайный вариант, а потом выбирает выиграшный вариант относительно прошлого хода опонента\n",
    "def random_deliberately(observation, configuration):\n",
    "    if observation.step % 2 == 0:\n",
    "        return random.randrange(0, configuration.signs)\n",
    "    else:\n",
    "        if observation.lastOpponentAction == 0:\n",
    "            return 1\n",
    "        elif observation.lastOpponentAction == 1:\n",
    "            return 2\n",
    "        else:\n",
    "            return 0"
   ]
  },
  {
   "cell_type": "code",
   "execution_count": 5,
   "metadata": {},
   "outputs": [
    {
     "data": {
      "text/plain": [
       "[[99.0, -99.0]]"
      ]
     },
     "execution_count": 5,
     "metadata": {},
     "output_type": "execute_result"
    }
   ],
   "source": [
    "evaluate(\n",
    "    \"rps\", #environment to use - no need to change\n",
    "    [\"scissors_agent.py\", \"paper_agent.py\"], #agents to evaluate\n",
    "    configuration={\"episodeSteps\": 100} #number of episodes \n",
    ")"
   ]
  },
  {
   "cell_type": "code",
   "execution_count": 33,
   "metadata": {},
   "outputs": [
    {
     "name": "stdout",
     "output_type": "stream",
     "text": [
      "Раунд 1\n",
      "Матч между copy_opponent.py vs crescendo_agent.py\n",
      "Победитель матча crescendo_agent.py\n",
      "Матч между copy_opponent.py vs losing_move_agent.py\n",
      "Победитель матча copy_opponent.py\n",
      "Матч между copy_opponent.py vs paper_agent.py\n",
      "Победитель матча copy_opponent.py\n",
      "Матч между copy_opponent.py vs paper_doll_agent.py\n",
      "Победитель матча copy_opponent.py\n",
      "Матч между copy_opponent.py vs random_agent.py\n",
      "Победитель матча copy_opponent.py\n",
      "Матч между copy_opponent.py vs random_deliberately.py\n",
      "Победитель матча copy_opponent.py\n",
      "Матч между copy_opponent.py vs rock_agent.py\n",
      "Победитель матча copy_opponent.py\n",
      "Матч между copy_opponent.py vs sandwitch_agent.py\n",
      "Победитель матча copy_opponent.py\n",
      "Матч между copy_opponent.py vs scissors_agent.py\n",
      "Победитель матча copy_opponent.py\n",
      "Матч между copy_opponent.py vs smart_agent.py\n",
      "Победитель матча copy_opponent.py\n",
      "Матч между copy_opponent.py vs stack_of_money_agent.py\n",
      "Победитель матча copy_opponent.py\n",
      "Матч между copy_opponent.py vs three_random_two_deliberately.py\n",
      "Победитель матча copy_opponent.py\n",
      "\n",
      "Раунд 2\n",
      "Матч между crescendo_agent.py vs losing_move_agent.py\n",
      "Победитель матча crescendo_agent.py\n",
      "Матч между crescendo_agent.py vs paper_agent.py\n",
      "Победитель матча crescendo_agent.py\n",
      "Матч между crescendo_agent.py vs paper_doll_agent.py\n",
      "Победитель матча paper_doll_agent.py\n",
      "Матч между crescendo_agent.py vs random_agent.py\n",
      "Победитель матча crescendo_agent.py\n",
      "Матч между crescendo_agent.py vs random_deliberately.py\n",
      "Победитель матча crescendo_agent.py\n",
      "Матч между crescendo_agent.py vs rock_agent.py\n",
      "Победитель матча crescendo_agent.py\n",
      "Матч между crescendo_agent.py vs sandwitch_agent.py\n",
      "Победитель матча sandwitch_agent.py\n",
      "Матч между crescendo_agent.py vs scissors_agent.py\n",
      "Победитель матча crescendo_agent.py\n",
      "Матч между crescendo_agent.py vs smart_agent.py\n",
      "Победитель матча crescendo_agent.py\n",
      "Матч между crescendo_agent.py vs stack_of_money_agent.py\n",
      "Победитель матча crescendo_agent.py\n",
      "Матч между crescendo_agent.py vs three_random_two_deliberately.py\n",
      "Победитель матча crescendo_agent.py\n",
      "\n",
      "Раунд 3\n",
      "Матч между losing_move_agent.py vs paper_agent.py\n",
      "Победитель матча paper_agent.py\n",
      "Матч между losing_move_agent.py vs paper_doll_agent.py\n",
      "Победитель матча paper_doll_agent.py\n",
      "Матч между losing_move_agent.py vs random_agent.py\n",
      "Победитель матча random_agent.py\n",
      "Матч между losing_move_agent.py vs random_deliberately.py\n",
      "Победитель матча random_deliberately.py\n",
      "Матч между losing_move_agent.py vs rock_agent.py\n",
      "Победитель матча rock_agent.py\n",
      "Матч между losing_move_agent.py vs sandwitch_agent.py\n",
      "Победитель матча sandwitch_agent.py\n",
      "Матч между losing_move_agent.py vs scissors_agent.py\n",
      "Победитель матча scissors_agent.py\n",
      "Матч между losing_move_agent.py vs smart_agent.py\n",
      "Победитель матча smart_agent.py\n",
      "Матч между losing_move_agent.py vs stack_of_money_agent.py\n",
      "Победитель матча stack_of_money_agent.py\n",
      "Матч между losing_move_agent.py vs three_random_two_deliberately.py\n",
      "Победитель матча three_random_two_deliberately.py\n",
      "\n",
      "Раунд 4\n",
      "Матч между paper_agent.py vs paper_doll_agent.py\n",
      "Победитель матча paper_doll_agent.py\n",
      "Матч между paper_agent.py vs random_agent.py\n",
      "Победитель матча paper_agent.py\n",
      "Матч между paper_agent.py vs random_deliberately.py\n",
      "Победитель матча random_deliberately.py\n",
      "Матч между paper_agent.py vs rock_agent.py\n",
      "Победитель матча paper_agent.py\n",
      "Матч между paper_agent.py vs sandwitch_agent.py\n",
      "Победитель матча sandwitch_agent.py\n",
      "Матч между paper_agent.py vs scissors_agent.py\n",
      "Победитель матча scissors_agent.py\n",
      "Матч между paper_agent.py vs smart_agent.py\n",
      "Победитель матча paper_agent.py\n",
      "Матч между paper_agent.py vs stack_of_money_agent.py\n",
      "Победитель матча paper_agent.py\n",
      "Матч между paper_agent.py vs three_random_two_deliberately.py\n",
      "Победитель матча paper_agent.py\n",
      "\n",
      "Раунд 5\n",
      "Матч между paper_doll_agent.py vs random_agent.py\n",
      "Победитель матча paper_doll_agent.py\n",
      "Матч между paper_doll_agent.py vs random_deliberately.py\n",
      "Победитель матча paper_doll_agent.py\n",
      "Матч между paper_doll_agent.py vs rock_agent.py\n",
      "Победитель матча paper_doll_agent.py\n",
      "Матч между paper_doll_agent.py vs sandwitch_agent.py\n",
      "Победитель матча paper_doll_agent.py\n",
      "Матч между paper_doll_agent.py vs scissors_agent.py\n",
      "Победитель матча scissors_agent.py\n",
      "Матч между paper_doll_agent.py vs smart_agent.py\n",
      "Победитель матча paper_doll_agent.py\n",
      "Матч между paper_doll_agent.py vs stack_of_money_agent.py\n",
      "Победитель матча stack_of_money_agent.py\n",
      "Матч между paper_doll_agent.py vs three_random_two_deliberately.py\n",
      "Победитель матча paper_doll_agent.py\n",
      "\n",
      "Раунд 6\n",
      "Матч между random_agent.py vs random_deliberately.py\n",
      "Победитель матча random_agent.py\n",
      "Матч между random_agent.py vs rock_agent.py\n",
      "Победитель матча random_agent.py\n",
      "Матч между random_agent.py vs sandwitch_agent.py\n",
      "Победитель матча random_agent.py\n",
      "Матч между random_agent.py vs scissors_agent.py\n",
      "Победитель матча random_agent.py\n",
      "Матч между random_agent.py vs smart_agent.py\n",
      "Победитель матча random_agent.py\n",
      "Матч между random_agent.py vs stack_of_money_agent.py\n",
      "Победитель матча random_agent.py\n",
      "Матч между random_agent.py vs three_random_two_deliberately.py\n",
      "Победитель матча random_agent.py\n",
      "\n",
      "Раунд 7\n",
      "Матч между random_deliberately.py vs rock_agent.py\n",
      "Победитель матча random_deliberately.py\n",
      "Матч между random_deliberately.py vs sandwitch_agent.py\n",
      "Победитель матча random_deliberately.py\n",
      "Матч между random_deliberately.py vs scissors_agent.py\n",
      "Победитель матча random_deliberately.py\n",
      "Матч между random_deliberately.py vs smart_agent.py\n",
      "Победитель матча random_deliberately.py\n",
      "Матч между random_deliberately.py vs stack_of_money_agent.py\n",
      "Победитель матча random_deliberately.py\n",
      "Матч между random_deliberately.py vs three_random_two_deliberately.py\n",
      "Победитель матча random_deliberately.py\n",
      "\n",
      "Раунд 8\n",
      "Матч между rock_agent.py vs sandwitch_agent.py\n",
      "Победитель матча sandwitch_agent.py\n",
      "Матч между rock_agent.py vs scissors_agent.py\n",
      "Победитель матча rock_agent.py\n",
      "Матч между rock_agent.py vs smart_agent.py\n",
      "Победитель матча rock_agent.py\n",
      "Матч между rock_agent.py vs stack_of_money_agent.py\n",
      "Победитель матча stack_of_money_agent.py\n",
      "Матч между rock_agent.py vs three_random_two_deliberately.py\n",
      "Победитель матча three_random_two_deliberately.py\n",
      "\n",
      "Раунд 9\n",
      "Матч между sandwitch_agent.py vs scissors_agent.py\n",
      "Победитель матча scissors_agent.py\n",
      "Матч между sandwitch_agent.py vs smart_agent.py\n",
      "Победитель матча sandwitch_agent.py\n",
      "Матч между sandwitch_agent.py vs stack_of_money_agent.py\n",
      "Победитель матча sandwitch_agent.py\n",
      "Матч между sandwitch_agent.py vs three_random_two_deliberately.py\n",
      "Победитель матча sandwitch_agent.py\n",
      "\n",
      "Раунд 10\n",
      "Матч между scissors_agent.py vs smart_agent.py\n",
      "Победитель матча scissors_agent.py\n",
      "Матч между scissors_agent.py vs stack_of_money_agent.py\n",
      "Победитель матча scissors_agent.py\n",
      "Матч между scissors_agent.py vs three_random_two_deliberately.py\n",
      "Победитель матча three_random_two_deliberately.py\n",
      "\n",
      "Раунд 11\n",
      "Матч между smart_agent.py vs stack_of_money_agent.py\n",
      "Победитель матча stack_of_money_agent.py\n",
      "Матч между smart_agent.py vs three_random_two_deliberately.py\n",
      "Победитель матча three_random_two_deliberately.py\n",
      "\n",
      "Раунд 12\n",
      "Матч между stack_of_money_agent.py vs three_random_two_deliberately.py\n",
      "Победитель матча stack_of_money_agent.py\n",
      "\n",
      "\n",
      "Победитель турнира copy_opponent.py\n"
     ]
    }
   ],
   "source": [
    "from typing import List\n",
    "\n",
    "\n",
    "def tournament(teams: List) -> str:\n",
    "    \"\"\"\n",
    "    Функция имитации турнира между созданными агентами\n",
    "    teams List: список всех команд\n",
    "    \"\"\"\n",
    "\n",
    "    dict_of_teams_and_victores = {i: 0 for i in teams}\n",
    "    \n",
    "    def match(agent1: str, agent2: str) -> str:\n",
    "        \"\"\"\n",
    "        Функция обрабатывающая матч между 2 агентами\n",
    "        agent1 str: первый агент, который принимает участие в матче. Передаётся в строковом формате\n",
    "        agent2 str: второй агент, который принимает участие в матче. Передаётся в строковом формате\n",
    "        \"\"\"\n",
    "\n",
    "        print('Матч между', agent1, 'vs', agent2)\n",
    "        res = evaluate(\n",
    "            \"rps\",\n",
    "            [agent1, agent2],\n",
    "            configuration={\"episodeSteps\": 100}\n",
    "        )\n",
    "\n",
    "        #Проверка, кто победил в матче.\n",
    "        #Если у одного из агентов получилось None, автоматически побеждает его опонент\n",
    "        #Если у опонентов общий счет [0, 0], автоматически побеждает первый агент\n",
    "        #В остальных случаях идет простое сравнение счета, у кого счет по партиям больше, тот и победил\n",
    "        if res[0][0] is None:\n",
    "            print('Победитель матча', agent2)\n",
    "            return agent2\n",
    "        elif res[0][1] is None:\n",
    "            print('Победитель матча', agent1)\n",
    "            return agent1\n",
    "        elif res[0][0] > res[0][1]:\n",
    "            print('Победитель матча', agent1)\n",
    "            return agent1\n",
    "        elif res[0][0] < res[0][1]:\n",
    "            print('Победитель матча', agent2)\n",
    "            return agent2\n",
    "        else:\n",
    "            print('Победитель матча', agent1)\n",
    "            return agent1\n",
    "    \n",
    "    #Цикл, который проходиться по всем агентам, чтобы все сыграли со всеми\n",
    "    #Количество итераций цикла подчиняется формуле сочетания: C_n^k = n!/(k!*(n-k)!)\n",
    "    #В нашем случае при 13 агентах: \n",
    "    # C_13^11 = 13! / (11! * (13 - 11)!) = 13! / (11! * 2!) = (13 * 12) / 2 = 13 * 6 = 78\n",
    "    #Для уменьшения количество итераций и ускорения работы коды, желательно использовать турнирную сетку,\n",
    "    #но по заданию сказано \"запустить турнир между ними и проверить, какая стратегия показывает себя лучше всех.\",\n",
    "    #соответственно нам необходимо сыграть со всеми чтобы выяснить, кто лучше всего себя показывает.\n",
    "    #При использовании турнирной сетки, агенту могут попасться соперники, против которых он показывает себя лучше, чем\n",
    "    #против других. И тогда мы не сможем судить об эффективности той или иной стратегии\n",
    "    for agent1 in range(len(teams)):\n",
    "        if teams[agent1 + 1:]:\n",
    "            print(f'Раунд {agent1 + 1}')\n",
    "            for agent2 in teams[agent1 + 1:]:\n",
    "                res = match(teams[agent1], agent2)\n",
    "                dict_of_teams_and_victores[res] += 1\n",
    "        print()\n",
    "\n",
    "    winner = max(dict_of_teams_and_victores, key=dict_of_teams_and_victores.get)\n",
    "    return f'Победитель турнира {winner}'\n",
    "\n",
    "\n",
    "teams = [\n",
    "    'copy_opponent.py', \n",
    "    'crescendo_agent.py', \n",
    "    'losing_move_agent.py', \n",
    "    'paper_agent.py', \n",
    "    'paper_doll_agent.py', \n",
    "    'random_agent.py',\n",
    "    'random_deliberately.py',\n",
    "    'rock_agent.py',\n",
    "    'sandwitch_agent.py',\n",
    "    'scissors_agent.py',\n",
    "    'smart_agent.py',\n",
    "    'stack_of_money_agent.py',\n",
    "    'three_random_two_deliberately.py',\n",
    "]\n",
    "\n",
    "print(tournament(teams))"
   ]
  }
 ],
 "metadata": {
  "kernelspec": {
   "display_name": "Python 3.11.6 ('venv': venv)",
   "language": "python",
   "name": "python3"
  },
  "language_info": {
   "codemirror_mode": {
    "name": "ipython",
    "version": 3
   },
   "file_extension": ".py",
   "mimetype": "text/x-python",
   "name": "python",
   "nbconvert_exporter": "python",
   "pygments_lexer": "ipython3",
   "version": "3.11.6"
  },
  "orig_nbformat": 4,
  "vscode": {
   "interpreter": {
    "hash": "9bcf66d3ac7402f57211744d4f5d41aa3edbcfeeadb800d16227a7fbea1b02a5"
   }
  }
 },
 "nbformat": 4,
 "nbformat_minor": 2
}
